{
 "cells": [
  {
   "cell_type": "code",
   "execution_count": 1,
   "metadata": {
    "collapsed": true
   },
   "outputs": [],
   "source": [
    "import pandas as pd\n",
    "import numpy as np"
   ]
  },
  {
   "cell_type": "code",
   "execution_count": 2,
   "metadata": {},
   "outputs": [
    {
     "name": "stderr",
     "output_type": "stream",
     "text": [
      "/Users/laurawilke/anaconda3/lib/python3.6/site-packages/ipykernel/__main__.py:1: FutureWarning: from_csv is deprecated. Please use read_csv(...) instead. Note that some of the default arguments are different, so please refer to the documentation for from_csv when changing your function calls\n",
      "  if __name__ == '__main__':\n"
     ]
    }
   ],
   "source": [
    "data=pd.DataFrame.from_csv(\"data.csv\")"
   ]
  },
  {
   "cell_type": "code",
   "execution_count": 3,
   "metadata": {
    "collapsed": true
   },
   "outputs": [],
   "source": [
    "dataSubset=data[['Country','Gender']]"
   ]
  },
  {
   "cell_type": "code",
   "execution_count": 4,
   "metadata": {
    "collapsed": true
   },
   "outputs": [],
   "source": [
    "females=data.loc[data['Gender']=='W']\n",
    "males=data.loc[data['Gender']=='M']\n",
    "unknown=data.loc[data['Gender']=='X']"
   ]
  },
  {
   "cell_type": "code",
   "execution_count": 5,
   "metadata": {
    "collapsed": true
   },
   "outputs": [],
   "source": [
    "femalesPerCountry=females[['Gender','Country']].groupby(['Year','Country'])['Gender'].count()\n",
    "malesPerCountry=males[['Gender','Country']].groupby(['Year','Country'])['Gender'].count()\n",
    "unknownPerCountry=unknown[['Gender','Country']].groupby(['Year','Country'])['Gender'].count()\n",
    "totalPerCountry=data.groupby(['Year','Country'])['Gender'].count()"
   ]
  },
  {
   "cell_type": "code",
   "execution_count": 6,
   "metadata": {
    "collapsed": true
   },
   "outputs": [],
   "source": [
    "femaleDF=femalesPerCountry.to_frame()\n",
    "malesDF=malesPerCountry.to_frame()\n",
    "unknownDF=unknownPerCountry.to_frame()\n",
    "totalDF=totalPerCountry.to_frame()"
   ]
  },
  {
   "cell_type": "code",
   "execution_count": 7,
   "metadata": {
    "collapsed": true
   },
   "outputs": [],
   "source": [
    "femaleDF=femaleDF.rename(columns={\"Gender\": \"W\"}).reset_index()\n",
    "maleDF=malesDF.rename(columns={\"Gender\": \"M\"}).reset_index()\n",
    "unknownDF=unknownDF.rename(columns={\"Gender\": \"X\"}).reset_index()\n",
    "totalDF=totalDF.rename(columns={\"Gender\": \"T\"}).reset_index()"
   ]
  },
  {
   "cell_type": "code",
   "execution_count": 9,
   "metadata": {
    "collapsed": true
   },
   "outputs": [],
   "source": [
    "countries=dataSubset.Country.unique()"
   ]
  },
  {
   "cell_type": "code",
   "execution_count": 10,
   "metadata": {
    "collapsed": true
   },
   "outputs": [],
   "source": [
    "years=dataSubset.index.unique()"
   ]
  },
  {
   "cell_type": "code",
   "execution_count": 11,
   "metadata": {},
   "outputs": [],
   "source": [
    "t=[]\n",
    "for i in range(len(years)):\n",
    "    for j in range(len(countries)):\n",
    "        t.append([i,j,years[i],countries[j]])\n",
    "genderData=pd.DataFrame(t, columns=['YearID','CountryID','Year', 'Country'])"
   ]
  },
  {
   "cell_type": "code",
   "execution_count": null,
   "metadata": {
    "collapsed": true
   },
   "outputs": [],
   "source": []
  },
  {
   "cell_type": "code",
   "execution_count": 12,
   "metadata": {
    "collapsed": true
   },
   "outputs": [],
   "source": [
    "genderData = pd.merge(left=genderData, right=femaleDF,  how='left')\n",
    "genderData = pd.merge(left=genderData, right=maleDF,  how='left')\n",
    "genderData = pd.merge(left=genderData, right=unknownDF,  how='left')\n",
    "genderData = pd.merge(left=genderData, right=totalDF,  how='left')"
   ]
  },
  {
   "cell_type": "code",
   "execution_count": 13,
   "metadata": {
    "collapsed": true
   },
   "outputs": [],
   "source": [
    "genderData=genderData.fillna(0)"
   ]
  },
  {
   "cell_type": "code",
   "execution_count": 14,
   "metadata": {
    "collapsed": true
   },
   "outputs": [],
   "source": [
    "genderData=genderData.set_index('Year')"
   ]
  },
  {
   "cell_type": "code",
   "execution_count": 16,
   "metadata": {
    "collapsed": true
   },
   "outputs": [],
   "source": [
    "genderData.to_csv('genderData.csv')"
   ]
  },
  {
   "cell_type": "code",
   "execution_count": 44,
   "metadata": {},
   "outputs": [],
   "source": [
    "dataFemale=genderData[['YearID','CountryID','Country','W']]\n",
    "femaleMax=dataFemale[['W']].groupby(['Year']).max().reset_index()\n",
    "femaleMax=femaleMax.rename(columns={\"W\":\"Max\"})\n",
    "dataFemale = pd.merge(left=femaleMax, right=dataFemale.reset_index(),  how='left').set_index('Year')\n",
    "dataFemale['norm']=dataFemale['W']/dataFemale['Max']\n",
    "dataFemale=dataFemale.rename(columns={'W':'value'})\n",
    "dataFemale.to_csv('dataFemale.csv')"
   ]
  },
  {
   "cell_type": "code",
   "execution_count": 45,
   "metadata": {},
   "outputs": [],
   "source": [
    "dataMale=genderData[['YearID','CountryID','Country','M']]\n",
    "maleMax=dataMale[['M']].groupby(['Year']).max().reset_index()\n",
    "maleMax=maleMax.rename(columns={\"M\":\"Max\"})\n",
    "dataMale = pd.merge(left=maleMax, right=dataMale.reset_index(),  how='left').set_index('Year')\n",
    "dataMale['norm']=dataMale['M']/dataMale['Max']\n",
    "dataMale=dataMale.rename(columns={'M':'value'})\n",
    "dataMale.to_csv('dataMale.csv')"
   ]
  },
  {
   "cell_type": "code",
   "execution_count": 50,
   "metadata": {
    "collapsed": true
   },
   "outputs": [],
   "source": [
    "dataTotal=genderData[['YearID','CountryID','Country','T']]\n",
    "totalMax=dataTotal[['T']].groupby(['Year']).max().reset_index()\n",
    "totalMax=totalMax.rename(columns={\"T\":\"Max\"})\n",
    "dataTotal = pd.merge(left=totalMax, right=dataTotal.reset_index(),  how='left').set_index('Year')\n",
    "dataTotal['norm']=dataTotal['T']/dataTotal['Max']\n",
    "dataTotal=dataTotal.rename(columns={'T':'value'})\n",
    "dataTotal.to_csv('dataTotal.csv')"
   ]
  },
  {
   "cell_type": "code",
   "execution_count": null,
   "metadata": {
    "collapsed": true
   },
   "outputs": [],
   "source": []
  }
 ],
 "metadata": {
  "kernelspec": {
   "display_name": "Python 3",
   "language": "python",
   "name": "python3"
  },
  "language_info": {
   "codemirror_mode": {
    "name": "ipython",
    "version": 3
   },
   "file_extension": ".py",
   "mimetype": "text/x-python",
   "name": "python",
   "nbconvert_exporter": "python",
   "pygments_lexer": "ipython3",
   "version": "3.6.0"
  }
 },
 "nbformat": 4,
 "nbformat_minor": 2
}
