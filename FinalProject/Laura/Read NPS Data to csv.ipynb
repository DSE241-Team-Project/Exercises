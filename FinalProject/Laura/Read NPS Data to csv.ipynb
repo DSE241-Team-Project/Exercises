{
 "cells": [
  {
   "cell_type": "code",
   "execution_count": 1,
   "metadata": {
    "collapsed": true
   },
   "outputs": [],
   "source": [
    "import glob\n",
    "import os\n",
    "import pandas as pd"
   ]
  },
  {
   "cell_type": "code",
   "execution_count": 2,
   "metadata": {
    "collapsed": true
   },
   "outputs": [],
   "source": [
    "path = '/Users/laurawilke/Desktop/Biodiversity Data/'                     # use your path\n",
    "all_files = glob.glob(os.path.join(path, \"*xlsx\"))"
   ]
  },
  {
   "cell_type": "code",
   "execution_count": 3,
   "metadata": {
    "collapsed": true
   },
   "outputs": [],
   "source": [
    "df = pd.DataFrame()\n",
    "list_ = []"
   ]
  },
  {
   "cell_type": "code",
   "execution_count": 4,
   "metadata": {
    "collapsed": true
   },
   "outputs": [],
   "source": [
    "for file_ in all_files:\n",
    "    df = pd.read_excel(file_,index_col=None, header=0)\n",
    "    list_.append(df)\n",
    "df = pd.concat(list_)"
   ]
  },
  {
   "cell_type": "code",
   "execution_count": 5,
   "metadata": {},
   "outputs": [
    {
     "data": {
      "text/plain": [
       "(366968, 33)"
      ]
     },
     "execution_count": 5,
     "metadata": {},
     "output_type": "execute_result"
    }
   ],
   "source": [
    "df.shape"
   ]
  },
  {
   "cell_type": "code",
   "execution_count": 6,
   "metadata": {
    "collapsed": true
   },
   "outputs": [],
   "source": [
    "data=df.drop(columns=['Region','References','Observations','Vouchers','ExternalLinks'])"
   ]
  },
  {
   "cell_type": "code",
   "execution_count": 7,
   "metadata": {
    "collapsed": true
   },
   "outputs": [],
   "source": [
    "data['SRank'].fillna('E:E', inplace=True)"
   ]
  },
  {
   "cell_type": "code",
   "execution_count": 8,
   "metadata": {
    "collapsed": true
   },
   "outputs": [],
   "source": [
    "data['SRank']=data['SRank'].str.split(\":\")"
   ]
  },
  {
   "cell_type": "code",
   "execution_count": 9,
   "metadata": {
    "collapsed": true,
    "scrolled": false
   },
   "outputs": [],
   "source": [
    "test_list=data.SRank.values.tolist()"
   ]
  },
  {
   "cell_type": "code",
   "execution_count": 10,
   "metadata": {
    "collapsed": true
   },
   "outputs": [],
   "source": [
    "df2=pd.DataFrame(test_list,columns=['A','B','C','D','E','F','G','H','I','J','K','L','M','N','O'])"
   ]
  },
  {
   "cell_type": "code",
   "execution_count": 11,
   "metadata": {
    "collapsed": true
   },
   "outputs": [],
   "source": [
    "data[['State','StateRank']]=df2[['A','B']]"
   ]
  },
  {
   "cell_type": "code",
   "execution_count": 15,
   "metadata": {
    "collapsed": true
   },
   "outputs": [],
   "source": [
    "data['GRank'].fillna('E', inplace=True)\n",
    "data['NPS Tags'].fillna('E',inplace=True)\n",
    "data['Order'].fillna('E',inplace=True)\n",
    "data['Family'].fillna('E',inplace=True)\n",
    "data['Record Status'].fillna('E',inplace=True)\n",
    "data['Park Accepted'].fillna('E',inplace=True)\n",
    "data['Sens?'].fillna('E',inplace=True)\n",
    "data['TSN'].fillna(0,inplace=True)\n",
    "data['Common Names'].fillna('E',inplace=True)\n",
    "data['Synonyms'].fillna('E',inplace=True)\n",
    "data['Occurrence'].fillna('E',inplace=True)\n",
    "data['Occurrence Tags'].fillna('E',inplace=True)\n",
    "data['Nativeness'].fillna('E',inplace=True)\n",
    "data['Nativeness Tags'].fillna('E',inplace=True)\n",
    "data['Abundance'].fillna('E',inplace=True)\n",
    "data['Synonyms'].fillna('E',inplace=True)\n",
    "data['Park Tags'].fillna('E',inplace=True)\n",
    "data['Internal Park Tags'].fillna('E',inplace=True)\n",
    "data['T&E'].fillna('E',inplace=True)\n",
    "data['State Status'].fillna('E',inplace=True)\n",
    "data['Ozone'].fillna('E',inplace=True)"
   ]
  },
  {
   "cell_type": "code",
   "execution_count": 16,
   "metadata": {},
   "outputs": [
    {
     "data": {
      "text/plain": [
       "Abundance              0\n",
       "Category               0\n",
       "Category Sort          0\n",
       "Common Names           0\n",
       "Family                 0\n",
       "GRank                  0\n",
       "Internal Park Tags     0\n",
       "NPS Tags               0\n",
       "Nativeness             0\n",
       "Nativeness Tags        0\n",
       "Occurrence             0\n",
       "Occurrence Tags        0\n",
       "Order                  0\n",
       "Ozone                  0\n",
       "Park Accepted          0\n",
       "Park Code              0\n",
       "Park Name              0\n",
       "Park Tags              0\n",
       "Record Status          0\n",
       "SRank                  0\n",
       "Scientific Name        0\n",
       "Sens?                  0\n",
       "State Status           0\n",
       "Synonyms               0\n",
       "T&E                    0\n",
       "TSN                    0\n",
       "Taxon Code             0\n",
       "Taxon Record Status    0\n",
       "State                  0\n",
       "StateRank              0\n",
       "dtype: int64"
      ]
     },
     "execution_count": 16,
     "metadata": {},
     "output_type": "execute_result"
    }
   ],
   "source": [
    "data.isnull().sum()"
   ]
  },
  {
   "cell_type": "code",
   "execution_count": 17,
   "metadata": {},
   "outputs": [
    {
     "data": {
      "text/html": [
       "<div>\n",
       "<style scoped>\n",
       "    .dataframe tbody tr th:only-of-type {\n",
       "        vertical-align: middle;\n",
       "    }\n",
       "\n",
       "    .dataframe tbody tr th {\n",
       "        vertical-align: top;\n",
       "    }\n",
       "\n",
       "    .dataframe thead th {\n",
       "        text-align: right;\n",
       "    }\n",
       "</style>\n",
       "<table border=\"1\" class=\"dataframe\">\n",
       "  <thead>\n",
       "    <tr style=\"text-align: right;\">\n",
       "      <th></th>\n",
       "      <th>Abundance</th>\n",
       "      <th>Category</th>\n",
       "      <th>Category Sort</th>\n",
       "      <th>Common Names</th>\n",
       "      <th>Family</th>\n",
       "      <th>GRank</th>\n",
       "      <th>Internal Park Tags</th>\n",
       "      <th>NPS Tags</th>\n",
       "      <th>Nativeness</th>\n",
       "      <th>Nativeness Tags</th>\n",
       "      <th>...</th>\n",
       "      <th>Scientific Name</th>\n",
       "      <th>Sens?</th>\n",
       "      <th>State Status</th>\n",
       "      <th>Synonyms</th>\n",
       "      <th>T&amp;E</th>\n",
       "      <th>TSN</th>\n",
       "      <th>Taxon Code</th>\n",
       "      <th>Taxon Record Status</th>\n",
       "      <th>State</th>\n",
       "      <th>StateRank</th>\n",
       "    </tr>\n",
       "  </thead>\n",
       "  <tbody>\n",
       "    <tr>\n",
       "      <th>0</th>\n",
       "      <td>Unknown</td>\n",
       "      <td>Mammal</td>\n",
       "      <td>1</td>\n",
       "      <td>Muskox</td>\n",
       "      <td>Bovidae</td>\n",
       "      <td>G5</td>\n",
       "      <td>E</td>\n",
       "      <td>E</td>\n",
       "      <td>Unknown</td>\n",
       "      <td>E</td>\n",
       "      <td>...</td>\n",
       "      <td>Ovibos moschatus</td>\n",
       "      <td>No</td>\n",
       "      <td>E</td>\n",
       "      <td>E</td>\n",
       "      <td>E</td>\n",
       "      <td>180708.0</td>\n",
       "      <td>95057</td>\n",
       "      <td>Active</td>\n",
       "      <td>AK</td>\n",
       "      <td>S4</td>\n",
       "    </tr>\n",
       "    <tr>\n",
       "      <th>1</th>\n",
       "      <td>Abundant</td>\n",
       "      <td>Mammal</td>\n",
       "      <td>1</td>\n",
       "      <td>Dall's sheep</td>\n",
       "      <td>Bovidae</td>\n",
       "      <td>G5</td>\n",
       "      <td>E</td>\n",
       "      <td>Breeder</td>\n",
       "      <td>Native</td>\n",
       "      <td>E</td>\n",
       "      <td>...</td>\n",
       "      <td>Ovis dalli</td>\n",
       "      <td>No</td>\n",
       "      <td>E</td>\n",
       "      <td>E</td>\n",
       "      <td>E</td>\n",
       "      <td>180710.0</td>\n",
       "      <td>95060</td>\n",
       "      <td>Active</td>\n",
       "      <td>AK</td>\n",
       "      <td>S5</td>\n",
       "    </tr>\n",
       "    <tr>\n",
       "      <th>2</th>\n",
       "      <td>Common</td>\n",
       "      <td>Mammal</td>\n",
       "      <td>1</td>\n",
       "      <td>Moose</td>\n",
       "      <td>Cervidae</td>\n",
       "      <td>E</td>\n",
       "      <td>E</td>\n",
       "      <td>Breeder</td>\n",
       "      <td>Native</td>\n",
       "      <td>E</td>\n",
       "      <td>...</td>\n",
       "      <td>Alces alces</td>\n",
       "      <td>No</td>\n",
       "      <td>E</td>\n",
       "      <td>E</td>\n",
       "      <td>E</td>\n",
       "      <td>180703.0</td>\n",
       "      <td>95052</td>\n",
       "      <td>Active</td>\n",
       "      <td>E</td>\n",
       "      <td>E</td>\n",
       "    </tr>\n",
       "    <tr>\n",
       "      <th>3</th>\n",
       "      <td>Abundant</td>\n",
       "      <td>Mammal</td>\n",
       "      <td>1</td>\n",
       "      <td>Caribou</td>\n",
       "      <td>Cervidae</td>\n",
       "      <td>G5</td>\n",
       "      <td>E</td>\n",
       "      <td>Migratory</td>\n",
       "      <td>Native</td>\n",
       "      <td>E</td>\n",
       "      <td>...</td>\n",
       "      <td>Rangifer tarandus</td>\n",
       "      <td>No</td>\n",
       "      <td>E</td>\n",
       "      <td>E</td>\n",
       "      <td>E</td>\n",
       "      <td>180701.0</td>\n",
       "      <td>95050</td>\n",
       "      <td>Active</td>\n",
       "      <td>AK</td>\n",
       "      <td>S5</td>\n",
       "    </tr>\n",
       "    <tr>\n",
       "      <th>4</th>\n",
       "      <td>Unknown</td>\n",
       "      <td>Mammal</td>\n",
       "      <td>1</td>\n",
       "      <td>Arctic fox</td>\n",
       "      <td>Canidae</td>\n",
       "      <td>E</td>\n",
       "      <td>E</td>\n",
       "      <td>E</td>\n",
       "      <td>Native</td>\n",
       "      <td>E</td>\n",
       "      <td>...</td>\n",
       "      <td>Alopex lagopus</td>\n",
       "      <td>No</td>\n",
       "      <td>E</td>\n",
       "      <td>E</td>\n",
       "      <td>E</td>\n",
       "      <td>180602.0</td>\n",
       "      <td>93345</td>\n",
       "      <td>Active</td>\n",
       "      <td>E</td>\n",
       "      <td>E</td>\n",
       "    </tr>\n",
       "  </tbody>\n",
       "</table>\n",
       "<p>5 rows × 30 columns</p>\n",
       "</div>"
      ],
      "text/plain": [
       "  Abundance Category  Category Sort  Common Names    Family GRank  \\\n",
       "0   Unknown   Mammal              1        Muskox   Bovidae    G5   \n",
       "1  Abundant   Mammal              1  Dall's sheep   Bovidae    G5   \n",
       "2    Common   Mammal              1         Moose  Cervidae     E   \n",
       "3  Abundant   Mammal              1       Caribou  Cervidae    G5   \n",
       "4   Unknown   Mammal              1    Arctic fox   Canidae     E   \n",
       "\n",
       "  Internal Park Tags   NPS Tags Nativeness Nativeness Tags    ...     \\\n",
       "0                  E          E    Unknown               E    ...      \n",
       "1                  E    Breeder     Native               E    ...      \n",
       "2                  E    Breeder     Native               E    ...      \n",
       "3                  E  Migratory     Native               E    ...      \n",
       "4                  E          E     Native               E    ...      \n",
       "\n",
       "     Scientific Name Sens? State Status Synonyms T&E       TSN Taxon Code  \\\n",
       "0   Ovibos moschatus    No            E        E   E  180708.0      95057   \n",
       "1         Ovis dalli    No            E        E   E  180710.0      95060   \n",
       "2        Alces alces    No            E        E   E  180703.0      95052   \n",
       "3  Rangifer tarandus    No            E        E   E  180701.0      95050   \n",
       "4     Alopex lagopus    No            E        E   E  180602.0      93345   \n",
       "\n",
       "  Taxon Record Status State StateRank  \n",
       "0              Active    AK        S4  \n",
       "1              Active    AK        S5  \n",
       "2              Active     E         E  \n",
       "3              Active    AK        S5  \n",
       "4              Active     E         E  \n",
       "\n",
       "[5 rows x 30 columns]"
      ]
     },
     "execution_count": 17,
     "metadata": {},
     "output_type": "execute_result"
    }
   ],
   "source": [
    "data.head()"
   ]
  },
  {
   "cell_type": "code",
   "execution_count": 18,
   "metadata": {
    "collapsed": true
   },
   "outputs": [],
   "source": [
    "data.to_csv('/Users/laurawilke/Documents/DSE/lwilke/DSE241/Final Project/biodiversity.csv')"
   ]
  },
  {
   "cell_type": "code",
   "execution_count": null,
   "metadata": {
    "collapsed": true
   },
   "outputs": [],
   "source": []
  }
 ],
 "metadata": {
  "kernelspec": {
   "display_name": "Python 2",
   "language": "python",
   "name": "python2"
  },
  "language_info": {
   "codemirror_mode": {
    "name": "ipython",
    "version": 2
   },
   "file_extension": ".py",
   "mimetype": "text/x-python",
   "name": "python",
   "nbconvert_exporter": "python",
   "pygments_lexer": "ipython2",
   "version": "2.7.13"
  }
 },
 "nbformat": 4,
 "nbformat_minor": 2
}
